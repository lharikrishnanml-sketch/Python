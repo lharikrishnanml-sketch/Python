{
 "cells": [
  {
   "cell_type": "code",
   "execution_count": 1,
   "id": "f04b235b-b607-44fb-b54b-17b0075eec0c",
   "metadata": {},
   "outputs": [
    {
     "name": "stdout",
     "output_type": "stream",
     "text": [
      "HOPE AI\n"
     ]
    }
   ],
   "source": [
    "print(\"HOPE AI\")"
   ]
  },
  {
   "cell_type": "code",
   "execution_count": 2,
   "id": "1e166287-073e-49b6-85ad-c2ddd05340bd",
   "metadata": {},
   "outputs": [
    {
     "name": "stdin",
     "output_type": "stream",
     "text": [
      "Enter your institute name? HOPE AI\n"
     ]
    },
    {
     "name": "stdout",
     "output_type": "stream",
     "text": [
      "HOPE AI\n"
     ]
    }
   ],
   "source": [
    "inp=input(\"Enter your institute name?\")\n",
    "print(inp)"
   ]
  },
  {
   "cell_type": "code",
   "execution_count": 3,
   "id": "43ac9969-4660-40e1-9440-672155f4d6ea",
   "metadata": {},
   "outputs": [
    {
     "name": "stdin",
     "output_type": "stream",
     "text": [
      "Enter your name Raj\n"
     ]
    },
    {
     "name": "stdout",
     "output_type": "stream",
     "text": [
      "Raj\n"
     ]
    }
   ],
   "source": [
    "name=input(\"Enter your name\")\n",
    "print(name)"
   ]
  },
  {
   "cell_type": "code",
   "execution_count": 4,
   "id": "78591313-51b9-490c-bba9-2d2e50912f57",
   "metadata": {},
   "outputs": [
    {
     "name": "stdin",
     "output_type": "stream",
     "text": [
      "Enter your age 15\n"
     ]
    },
    {
     "name": "stdout",
     "output_type": "stream",
     "text": [
      "15\n"
     ]
    }
   ],
   "source": [
    "age=input(\"Enter your age\")\n",
    "print(age)"
   ]
  },
  {
   "cell_type": "code",
   "execution_count": 5,
   "id": "0fb45aa4-fec5-4cdf-ac66-04ba5df5d156",
   "metadata": {},
   "outputs": [
    {
     "name": "stdin",
     "output_type": "stream",
     "text": [
      "Enter your school name Guru School\n"
     ]
    },
    {
     "name": "stdout",
     "output_type": "stream",
     "text": [
      "Guru School\n"
     ]
    }
   ],
   "source": [
    "schoolname=input(\"Enter your school name\")\n",
    "print(schoolname)"
   ]
  },
  {
   "cell_type": "code",
   "execution_count": 6,
   "id": "f277264a-213d-4aaa-8600-0f9246b2d23d",
   "metadata": {},
   "outputs": [
    {
     "name": "stdin",
     "output_type": "stream",
     "text": [
      "Enter you degree BE CSE\n"
     ]
    },
    {
     "name": "stdout",
     "output_type": "stream",
     "text": [
      "BE CSE\n"
     ]
    }
   ],
   "source": [
    "degree=input(\"Enter you degree\")\n",
    "print(degree)"
   ]
  },
  {
   "cell_type": "code",
   "execution_count": 7,
   "id": "8d2cf22c-ac43-4c84-a8f6-34e177c8bcf9",
   "metadata": {},
   "outputs": [
    {
     "name": "stdout",
     "output_type": "stream",
     "text": [
      "77\n"
     ]
    }
   ],
   "source": [
    "num1=43\n",
    "num2=34\n",
    "add=num1+num2\n",
    "print(add)"
   ]
  },
  {
   "cell_type": "code",
   "execution_count": 8,
   "id": "5ff1649c-c6d7-4782-a359-d0b3dc833a1d",
   "metadata": {},
   "outputs": [
    {
     "name": "stdout",
     "output_type": "stream",
     "text": [
      "9\n"
     ]
    }
   ],
   "source": [
    "sub1=43\n",
    "sub2=34\n",
    "sub=sub1-sub2\n",
    "print(sub)"
   ]
  },
  {
   "cell_type": "code",
   "execution_count": 9,
   "id": "1a3e1bb3-b3c3-4144-ba88-8a07e754dcfa",
   "metadata": {},
   "outputs": [
    {
     "name": "stdout",
     "output_type": "stream",
     "text": [
      "6111\n"
     ]
    }
   ],
   "source": [
    "mul1=63\n",
    "mul2=97\n",
    "mul=mul1*mul2\n",
    "print(mul)"
   ]
  },
  {
   "cell_type": "code",
   "execution_count": 10,
   "id": "32582168-de19-42bc-9bf2-16ecb5d31630",
   "metadata": {},
   "outputs": [
    {
     "name": "stdout",
     "output_type": "stream",
     "text": [
      "2.4516129032258065\n"
     ]
    }
   ],
   "source": [
    "div1=76\n",
    "div2=31\n",
    "div=div1/div2\n",
    "print(div)"
   ]
  },
  {
   "cell_type": "code",
   "execution_count": 12,
   "id": "43eb3a92-cbf2-4110-b7fe-7c9a06e89a9c",
   "metadata": {},
   "outputs": [
    {
     "name": "stdout",
     "output_type": "stream",
     "text": [
      "2\n"
     ]
    }
   ],
   "source": [
    "flrdiv1=76\n",
    "flrdiv2=31\n",
    "flrdiv=flrdiv1//flrdiv2\n",
    "print(flrdiv)"
   ]
  },
  {
   "cell_type": "code",
   "execution_count": 13,
   "id": "87d4fba1-fb2d-45b2-a634-a098958571db",
   "metadata": {},
   "outputs": [
    {
     "name": "stdout",
     "output_type": "stream",
     "text": [
      "14\n"
     ]
    }
   ],
   "source": [
    "mod1=76\n",
    "mod2=31\n",
    "mod=mod1%mod2\n",
    "print(mod)"
   ]
  },
  {
   "cell_type": "code",
   "execution_count": 20,
   "id": "d821ded1-f5ae-42c1-b93d-10d0bbe7b31a",
   "metadata": {},
   "outputs": [
    {
     "name": "stdout",
     "output_type": "stream",
     "text": [
      "256\n"
     ]
    }
   ],
   "source": [
    "pow1=4\n",
    "pow2=4\n",
    "power=pow1**pow2\n",
    "print(power)"
   ]
  },
  {
   "cell_type": "code",
   "execution_count": null,
   "id": "f957cfaf-d557-470e-999f-cb1d5f189ec9",
   "metadata": {},
   "outputs": [],
   "source": []
  }
 ],
 "metadata": {
  "kernelspec": {
   "display_name": "Python [conda env:base] *",
   "language": "python",
   "name": "conda-base-py"
  },
  "language_info": {
   "codemirror_mode": {
    "name": "ipython",
    "version": 3
   },
   "file_extension": ".py",
   "mimetype": "text/x-python",
   "name": "python",
   "nbconvert_exporter": "python",
   "pygments_lexer": "ipython3",
   "version": "3.13.5"
  }
 },
 "nbformat": 4,
 "nbformat_minor": 5
}

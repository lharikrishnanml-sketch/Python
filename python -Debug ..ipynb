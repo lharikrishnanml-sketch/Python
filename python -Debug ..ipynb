{
 "cells": [
  {
   "cell_type": "code",
   "execution_count": null,
   "id": "8e02775a",
   "metadata": {},
   "outputs": [],
   "source": [
    "#1.Find the error in the following Python code:\n",
    "\n",
    " for i in range(5):\n",
    "    print(i)\n",
    "    "
   ]
  },
  {
   "cell_type": "code",
   "execution_count": null,
   "id": "df3cee51",
   "metadata": {},
   "outputs": [],
   "source": [
    "#2.What will be the output of this code?\n",
    "\n",
    "a = 10\n",
    "b = 5\n",
    "print(a + b)\n",
    " "
   ]
  },
  {
   "cell_type": "code",
   "execution_count": 6,
   "id": "15c2e7b2",
   "metadata": {},
   "outputs": [],
   "source": [
    "#3.What is the issue in this Python snippet?\n",
    "\n",
    "def add_numbers(a, b):\n",
    "     return a+b\n"
   ]
  },
  {
   "cell_type": "code",
   "execution_count": null,
   "id": "2f8e5efd",
   "metadata": {},
   "outputs": [],
   "source": [
    "\n",
    "#4.Identify the bug in the following Python code:\n",
    "\n",
    " numbers = [1, 2, 3, 4]\n",
    "print(numbers[4])\n",
    "array index out bound excepting , index value not present in this list"
   ]
  },
  {
   "cell_type": "code",
   "execution_count": null,
   "id": "bc0080c1",
   "metadata": {},
   "outputs": [],
   "source": [
    "#5.Find the error in the following Python code:\n",
    "print \"Hello, World!\"\n",
    "didn't include brackets"
   ]
  },
  {
   "cell_type": "code",
   "execution_count": null,
   "id": "5b449ecb",
   "metadata": {},
   "outputs": [],
   "source": [
    "#6.Find the error in the following Python code:\n",
    "x = 5 / 0\n",
    "exception error "
   ]
  },
  {
   "cell_type": "code",
   "execution_count": null,
   "id": "79260565",
   "metadata": {},
   "outputs": [],
   "source": [
    "#7.Find the error in the following Python code:name = \"Alice\"\n",
    "age = 25\n",
    "print(\"Name: \" + name + \", Age: \" + age)\n",
    "name alice is not defined"
   ]
  },
  {
   "cell_type": "code",
   "execution_count": null,
   "id": "3e4b6f3b",
   "metadata": {},
   "outputs": [],
   "source": [
    "#8.Find the error\n",
    "for i in range(1, 10, -1):\n",
    "    print(i)\n",
    "ideally it should be 10,1,-1 to decrement"
   ]
  },
  {
   "cell_type": "code",
   "execution_count": 7,
   "id": "95976c4d",
   "metadata": {},
   "outputs": [
    {
     "ename": "SyntaxError",
     "evalue": "invalid syntax. Maybe you meant '==' or ':=' instead of '='? (2454184866.py, line 3)",
     "output_type": "error",
     "traceback": [
      "\u001b[0;36m  Cell \u001b[0;32mIn[7], line 3\u001b[0;36m\u001b[0m\n\u001b[0;31m    if x = 5:\u001b[0m\n\u001b[0m       ^\u001b[0m\n\u001b[0;31mSyntaxError\u001b[0m\u001b[0;31m:\u001b[0m invalid syntax. Maybe you meant '==' or ':=' instead of '='?\n"
     ]
    }
   ],
   "source": [
    "#9. Find the error in the following Python code:\n",
    "x = 10\n",
    "if x = 5:\n",
    "    print(\"x is 5\")\n",
    "= operator should be =="
   ]
  },
  {
   "cell_type": "code",
   "execution_count": 2,
   "id": "317eca50",
   "metadata": {},
   "outputs": [
    {
     "name": "stdin",
     "output_type": "stream",
     "text": [
      "Enter age 18\n"
     ]
    },
    {
     "name": "stdout",
     "output_type": "stream",
     "text": [
      "eligible to vote\n"
     ]
    }
   ],
   "source": [
    "userinput=int(input(\"Enter age\"))\n",
    "if userinput<18:\n",
    "    print(\"not eligible to vote\")\n",
    "else:\n",
    "    print(\"eligible to vote\")\n",
    "    "
   ]
  },
  {
   "cell_type": "code",
   "execution_count": 4,
   "id": "4924e26f-22d1-4621-9b43-7cee34a49976",
   "metadata": {},
   "outputs": [
    {
     "name": "stdout",
     "output_type": "stream",
     "text": [
      "10\n"
     ]
    }
   ],
   "source": [
    "list=[1,2,3,4,5,6,7,8,9,10]\n",
    "print(max(list))\n",
    "    "
   ]
  },
  {
   "cell_type": "code",
   "execution_count": 10,
   "id": "70774024-f367-4fd3-9a3b-51f8c5c75d6f",
   "metadata": {},
   "outputs": [
    {
     "name": "stdin",
     "output_type": "stream",
     "text": [
      "enter salary to determine bonus eligibility and to apply bonus to your salary 50000\n"
     ]
    },
    {
     "name": "stdout",
     "output_type": "stream",
     "text": [
      "55000.0\n"
     ]
    }
   ],
   "source": [
    "userinput=float(input(\"enter salary to determine bonus eligibility and to apply bonus to your salary\"))\n",
    "if (userinput>50,000):\n",
    "    bonus=userinput*0.10\n",
    "    updatedsalary=userinput+bonus\n",
    "    print(updatedsalary)\n",
    "else:\n",
    "    print(\"not eligible for bonus\")"
   ]
  },
  {
   "cell_type": "code",
   "execution_count": 12,
   "id": "97f2707d-cea3-4390-9ebc-64dfcb1fa70e",
   "metadata": {},
   "outputs": [
    {
     "name": "stdin",
     "output_type": "stream",
     "text": [
      "enter number 56\n"
     ]
    },
    {
     "name": "stdout",
     "output_type": "stream",
     "text": [
      "even number\n"
     ]
    }
   ],
   "source": [
    "userinput=int(input(\"enter number\"))\n",
    "if userinput%2==0:\n",
    "    print(\"even number\")\n",
    "else:\n",
    "    print(\"oddd number\")"
   ]
  },
  {
   "cell_type": "code",
   "execution_count": 13,
   "id": "9c32dc29-d2e5-4022-8aed-5b1f7001e4cc",
   "metadata": {},
   "outputs": [
    {
     "name": "stdout",
     "output_type": "stream",
     "text": [
      "olleh\n"
     ]
    }
   ],
   "source": [
    "text=\"hello\"\n",
    "revrerse_text=text[::-1]\n",
    "print(revrerse_text)"
   ]
  },
  {
   "cell_type": "code",
   "execution_count": 15,
   "id": "5f6f3297-3d65-41fa-b2c8-714634ff6ebd",
   "metadata": {},
   "outputs": [
    {
     "name": "stdin",
     "output_type": "stream",
     "text": [
      "enter marks 40\n"
     ]
    },
    {
     "name": "stdout",
     "output_type": "stream",
     "text": [
      "pass\n"
     ]
    }
   ],
   "source": [
    "userinput=int(input(\"enter marks\"))\n",
    "if userinput>=40:\n",
    "    print(\"pass\")\n",
    "else:\n",
    "    print(\"fail\")"
   ]
  },
  {
   "cell_type": "code",
   "execution_count": 19,
   "id": "06918081-3e8f-4997-ad86-e7a5167d2415",
   "metadata": {},
   "outputs": [
    {
     "name": "stdin",
     "output_type": "stream",
     "text": [
      "enter your total 1101\n"
     ]
    },
    {
     "name": "stdout",
     "output_type": "stream",
     "text": [
      "1211.1\n"
     ]
    }
   ],
   "source": [
    "userinput=float(input(\"enter your total\"))\n",
    "if userinput>100:\n",
    "    bonus=userinput*0.10\n",
    "    updatedtotal=bonus+userinput\n",
    "    print(updatedtotal)\n",
    "else:\n",
    "    print(\"not eliible for discount\")"
   ]
  },
  {
   "cell_type": "code",
   "execution_count": 20,
   "id": "bfdcc9f4-bab4-4706-9504-32fd611c695c",
   "metadata": {},
   "outputs": [
    {
     "name": "stdout",
     "output_type": "stream",
     "text": [
      "2\n",
      "4\n",
      "6\n",
      "8\n",
      "10\n"
     ]
    }
   ],
   "source": [
    "numbers=[1,2,3,4,5,6,7,8,9,10]\n",
    "for even in numbers:\n",
    "    if even %2==0:\n",
    "        print(even)\n"
   ]
  },
  {
   "cell_type": "code",
   "execution_count": 22,
   "id": "ddedeae9-32f5-4c40-a85c-7e685f8d8255",
   "metadata": {},
   "outputs": [
    {
     "name": "stdin",
     "output_type": "stream",
     "text": [
      "Enter year 2005\n"
     ]
    },
    {
     "name": "stdout",
     "output_type": "stream",
     "text": [
      "not leap year\n"
     ]
    }
   ],
   "source": [
    "userinput=int(input(\"Enter year\"))\n",
    "if userinput%4==0:\n",
    "    print(\"leap year\")\n",
    "else:\n",
    "    print(\"not leap year\")"
   ]
  },
  {
   "cell_type": "code",
   "execution_count": null,
   "id": "19857159-af08-408f-9d48-562a6ce65045",
   "metadata": {},
   "outputs": [],
   "source": []
  }
 ],
 "metadata": {
  "kernelspec": {
   "display_name": "Python [conda env:base] *",
   "language": "python",
   "name": "conda-base-py"
  },
  "language_info": {
   "codemirror_mode": {
    "name": "ipython",
    "version": 3
   },
   "file_extension": ".py",
   "mimetype": "text/x-python",
   "name": "python",
   "nbconvert_exporter": "python",
   "pygments_lexer": "ipython3",
   "version": "3.13.5"
  }
 },
 "nbformat": 4,
 "nbformat_minor": 5
}

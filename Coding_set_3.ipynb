{
 "cells": [
  {
   "cell_type": "code",
   "execution_count": 3,
   "id": "511e5dbe",
   "metadata": {
    "id": "511e5dbe"
   },
   "outputs": [
    {
     "name": "stdout",
     "output_type": "stream",
     "text": [
      "1 4 9 16 25 "
     ]
    }
   ],
   "source": [
    "#1. Square of Numbers from 1 to 5\n",
    "#Output:\n",
    "#1 4 9 16 25\n",
    "\n",
    "for num in range(1,6):\n",
    "    print (num*num, end=' ')\n",
    "\n"
   ]
  },
  {
   "cell_type": "code",
   "execution_count": 4,
   "id": "e886abee",
   "metadata": {
    "id": "e886abee"
   },
   "outputs": [
    {
     "name": "stdout",
     "output_type": "stream",
     "text": [
      "10 5\n"
     ]
    }
   ],
   "source": [
    "#2.Swap Two Variables Without Using a Temporary Variable\n",
    "#Question: Write a Python program to swap two variables a = 5 and b = 10 without using a temporary variable.\n",
    "\n",
    "a=5\n",
    "b=10\n",
    "b=5\n",
    "a=10\n",
    "print(a,b)\n"
   ]
  },
  {
   "cell_type": "code",
   "execution_count": 7,
   "id": "adfc0479",
   "metadata": {
    "id": "adfc0479"
   },
   "outputs": [
    {
     "name": "stdout",
     "output_type": "stream",
     "text": [
      "Even numbers are [12, 24, 40, 56]\n",
      "odd numbers are [17, 19, 35]\n"
     ]
    }
   ],
   "source": [
    " #3.Find Even and Odd Numbers in a List\n",
    "#Question: Write a Python program to separate even and odd numbers from the list [12, 17, 19, 24, 35, 40, 56].\n",
    "\n",
    "my_list=[12, 17, 19, 24, 35, 40, 56]\n",
    "even_list=[]\n",
    "odd_list=[]\n",
    "for num in my_list:\n",
    "    if num%2==0:\n",
    "        even_list.append(num)\n",
    "print(\"Even numbers are\" ,even_list)\n",
    "for num in my_list:\n",
    "    if num%2!=0:\n",
    "        odd_list.append(num)\n",
    "print(\"odd numbers are\", odd_list)\n"
   ]
  },
  {
   "cell_type": "code",
   "execution_count": 9,
   "id": "9bd0afd7",
   "metadata": {
    "id": "9bd0afd7"
   },
   "outputs": [
    {
     "name": "stdout",
     "output_type": "stream",
     "text": [
      "[5, 4, 3, 2, 1]\n"
     ]
    }
   ],
   "source": [
    "#4. Reverse a Number\n",
    "#Question: Write a Python program to reverse the number 12345.\n",
    "my_list1=[1,2,3,4,5]\n",
    "reverse_num=my_list1[::-1]\n",
    "print(reverse_num)\n"
   ]
  },
  {
   "cell_type": "code",
   "execution_count": 15,
   "id": "baf1f666",
   "metadata": {
    "id": "baf1f666"
   },
   "outputs": [
    {
     "name": "stdout",
     "output_type": "stream",
     "text": [
      "98\n"
     ]
    }
   ],
   "source": [
    "#5. Find the Second Largest Number in a List\n",
    "#Question: Write a Python program to find the second largest number in the list [12, 45, 98, 34, 23].\n",
    "\n",
    "list1=[12, 45, 98, 34, 23]\n",
    "second_largest=0\n",
    "for num in list1:\n",
    "    if num>second_largest:\n",
    "        second_largest=num\n",
    "print(second_largest)"
   ]
  },
  {
   "cell_type": "code",
   "execution_count": null,
   "id": "eb6e77d2",
   "metadata": {
    "id": "eb6e77d2"
   },
   "outputs": [],
   "source": []
  },
  {
   "cell_type": "code",
   "execution_count": null,
   "id": "cf27438f",
   "metadata": {
    "id": "cf27438f"
   },
   "outputs": [],
   "source": []
  },
  {
   "cell_type": "code",
   "execution_count": null,
   "id": "8a8e84b3",
   "metadata": {
    "id": "8a8e84b3"
   },
   "outputs": [],
   "source": []
  },
  {
   "cell_type": "code",
   "execution_count": null,
   "id": "a73f86c4",
   "metadata": {
    "id": "a73f86c4"
   },
   "outputs": [],
   "source": []
  }
 ],
 "metadata": {
  "colab": {
   "provenance": []
  },
  "kernelspec": {
   "display_name": "Python [conda env:base] *",
   "language": "python",
   "name": "conda-base-py"
  },
  "language_info": {
   "codemirror_mode": {
    "name": "ipython",
    "version": 3
   },
   "file_extension": ".py",
   "mimetype": "text/x-python",
   "name": "python",
   "nbconvert_exporter": "python",
   "pygments_lexer": "ipython3",
   "version": "3.13.5"
  }
 },
 "nbformat": 4,
 "nbformat_minor": 5
}

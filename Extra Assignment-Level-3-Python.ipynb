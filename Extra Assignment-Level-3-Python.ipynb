{
 "cells": [
  {
   "cell_type": "code",
   "execution_count": 6,
   "id": "f1807b3f-c89b-4d69-9524-103cbcae5721",
   "metadata": {},
   "outputs": [
    {
     "name": "stdout",
     "output_type": "stream",
     "text": [
      "The value of i is 10 \n",
      "CORRECT\n"
     ]
    }
   ],
   "source": [
    "i=10\n",
    "if i==10:\n",
    "    print(\"The value of i is\",i,\"\\nCORRECT\")"
   ]
  },
  {
   "cell_type": "code",
   "execution_count": 8,
   "id": "868c8cf9-7093-4f0e-b48c-eabbf777e9b3",
   "metadata": {},
   "outputs": [
    {
     "name": "stdin",
     "output_type": "stream",
     "text": [
      "Enter the password HOPE@123\n"
     ]
    },
    {
     "name": "stdout",
     "output_type": "stream",
     "text": [
      "password is correct\n"
     ]
    }
   ],
   "source": [
    "password=\"HOPE@123\"\n",
    "pass1=input(\"Enter the password\")\n",
    "if pass1==password:\n",
    "    print(\"password is correct\")\n",
    "else:\n",
    "    print(\"password is not correct\")"
   ]
  },
  {
   "cell_type": "code",
   "execution_count": 17,
   "id": "3aad5c21-56d8-41b0-82ae-c6f1d1faefb8",
   "metadata": {},
   "outputs": [
    {
     "name": "stdin",
     "output_type": "stream",
     "text": [
      "Enter the age 15\n"
     ]
    },
    {
     "name": "stdout",
     "output_type": "stream",
     "text": [
      "Children age\n"
     ]
    }
   ],
   "source": [
    "userinput=int(input(\"Enter the age\"))\n",
    "if userinput <18:\n",
    "    print(\"Children age\")\n",
    "elif userinput > 18 and userinput< 35:\n",
    "    print(\"Adult age\")\n",
    "elif userinput>35 and userinput<55:\n",
    "    print(\"Citizen Age\")\n",
    "elif userinput>55 and userinput<100:\n",
    "    print(\"Senior Ciizen Age\")\n",
    "    "
   ]
  },
  {
   "cell_type": "code",
   "execution_count": 19,
   "id": "c69ce855-01f9-4946-9c2d-592f0707324f",
   "metadata": {},
   "outputs": [
    {
     "name": "stdin",
     "output_type": "stream",
     "text": [
      "Enter the number -1\n"
     ]
    },
    {
     "name": "stdout",
     "output_type": "stream",
     "text": [
      "negative\n"
     ]
    }
   ],
   "source": [
    "userinputnum=int(input(\"Enter the number\"))\n",
    "if userinputnum <0:\n",
    "    print(\"negative\")\n",
    "else:\n",
    "    print(\"positive\")\n"
   ]
  },
  {
   "cell_type": "code",
   "execution_count": null,
   "id": "fb9f9c32-00ad-4afa-8837-f0f3b081cb38",
   "metadata": {},
   "outputs": [],
   "source": [
    "divi5=int(input(\"Enter the number\"))\n",
    "if divi5%5==0:\n",
    "    print(\"Divisisble by 5\")\n",
    "else:\n",
    "    print(\"not divisible by 5\")"
   ]
  },
  {
   "cell_type": "code",
   "execution_count": null,
   "id": "cd078b0c-1190-46d9-863d-9405d42641f7",
   "metadata": {},
   "outputs": [],
   "source": []
  }
 ],
 "metadata": {
  "kernelspec": {
   "display_name": "Python [conda env:base] *",
   "language": "python",
   "name": "conda-base-py"
  },
  "language_info": {
   "codemirror_mode": {
    "name": "ipython",
    "version": 3
   },
   "file_extension": ".py",
   "mimetype": "text/x-python",
   "name": "python",
   "nbconvert_exporter": "python",
   "pygments_lexer": "ipython3",
   "version": "3.13.5"
  }
 },
 "nbformat": 4,
 "nbformat_minor": 5
}

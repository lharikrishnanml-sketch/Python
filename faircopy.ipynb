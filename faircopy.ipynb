{
 "cells": [
  {
   "cell_type": "code",
   "execution_count": 3,
   "id": "d7a55d87-1fc8-41ca-8f10-f47dec14c1ee",
   "metadata": {},
   "outputs": [],
   "source": [
    "from multipleFunctions import multipleFunctions\n",
    "mf=multipleFunctions()"
   ]
  },
  {
   "cell_type": "code",
   "execution_count": 5,
   "id": "96d872c4-8dee-4cdc-ae37-4f5ef3d9dfc3",
   "metadata": {},
   "outputs": [
    {
     "name": "stdout",
     "output_type": "stream",
     "text": [
      "10\n"
     ]
    },
    {
     "name": "stdin",
     "output_type": "stream",
     "text": [
      "Enter the number 10\n"
     ]
    },
    {
     "name": "stdout",
     "output_type": "stream",
     "text": [
      "Even number\n"
     ]
    },
    {
     "data": {
      "text/plain": [
       "'Even number'"
      ]
     },
     "execution_count": 5,
     "metadata": {},
     "output_type": "execute_result"
    }
   ],
   "source": [
    "mf.perm_triangle()\n",
    "mf.OddEven()"
   ]
  },
  {
   "cell_type": "code",
   "execution_count": 6,
   "id": "7877586d-917e-4037-8fe3-747f166e0763",
   "metadata": {},
   "outputs": [
    {
     "name": "stdout",
     "output_type": "stream",
     "text": [
      "Machine Learning\n",
      "Neural Networks\n",
      "Robotics\n",
      "Vision\n",
      "Speech processing\n",
      "Natural Language Processing\n",
      "\n"
     ]
    }
   ],
   "source": [
    "mf.subfields()"
   ]
  },
  {
   "cell_type": "code",
   "execution_count": 12,
   "id": "dd200dad-c42a-4281-a410-4f04faced9d8",
   "metadata": {},
   "outputs": [
    {
     "name": "stdin",
     "output_type": "stream",
     "text": [
      "Enter your Gender Female\n",
      "Enter your Age 18\n"
     ]
    },
    {
     "name": "stdout",
     "output_type": "stream",
     "text": [
      "Eligible for Female Marriage\n"
     ]
    },
    {
     "data": {
      "text/plain": [
       "'Eligible for Female Marriage'"
      ]
     },
     "execution_count": 12,
     "metadata": {},
     "output_type": "execute_result"
    }
   ],
   "source": [
    "mf.Eligible()"
   ]
  },
  {
   "cell_type": "code",
   "execution_count": 13,
   "id": "41a729bc-75d1-4842-b11c-147e1c9e6990",
   "metadata": {},
   "outputs": [
    {
     "name": "stdout",
     "output_type": "stream",
     "text": [
      "Percentage of 10th mark is: 93.6\n"
     ]
    }
   ],
   "source": [
    "mf.percentage()"
   ]
  },
  {
   "cell_type": "code",
   "execution_count": 14,
   "id": "f771caae-85c9-4d35-8fe0-96ceb767b395",
   "metadata": {},
   "outputs": [
    {
     "name": "stdout",
     "output_type": "stream",
     "text": [
      "544.0\n"
     ]
    }
   ],
   "source": [
    "mf.Areatriangle()"
   ]
  },
  {
   "cell_type": "code",
   "execution_count": 15,
   "id": "ad971567-bb59-4a2b-b611-ac40f83bd877",
   "metadata": {},
   "outputs": [
    {
     "name": "stdout",
     "output_type": "stream",
     "text": [
      "10\n"
     ]
    }
   ],
   "source": [
    "mf.perm_triangle()"
   ]
  },
  {
   "cell_type": "code",
   "execution_count": null,
   "id": "16d56359-b9e3-471a-822d-68f1a4fee41e",
   "metadata": {},
   "outputs": [],
   "source": []
  }
 ],
 "metadata": {
  "kernelspec": {
   "display_name": "Python [conda env:base] *",
   "language": "python",
   "name": "conda-base-py"
  },
  "language_info": {
   "codemirror_mode": {
    "name": "ipython",
    "version": 3
   },
   "file_extension": ".py",
   "mimetype": "text/x-python",
   "name": "python",
   "nbconvert_exporter": "python",
   "pygments_lexer": "ipython3",
   "version": "3.13.5"
  }
 },
 "nbformat": 4,
 "nbformat_minor": 5
}
